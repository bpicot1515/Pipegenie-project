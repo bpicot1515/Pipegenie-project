{
 "cells": [
  {
   "cell_type": "markdown",
   "metadata": {},
   "source": [
    "# Regression\n",
    "\n",
    "This tutorial shows how to use the `PipegenieRegressor` class. This class is used to create a model that can be used for regression tasks.\n",
    "\n",
    "First of all, we need to load the dataset. For this tutorial, we will use the `diabetes` dataset from the `sklearn` package, which is a simple dataset with 442 and 10 features."
   ]
  },
  {
   "cell_type": "code",
   "execution_count": 6,
   "metadata": {},
   "outputs": [
    {
     "name": "stdout",
     "output_type": "stream",
     "text": [
      "        age       sex       bmi        bp        s1        s2        s3  \\\n",
      "0  0.038076  0.050680  0.061696  0.021872 -0.044223 -0.034821 -0.043401   \n",
      "1 -0.001882 -0.044642 -0.051474 -0.026328 -0.008449 -0.019163  0.074412   \n",
      "2  0.085299  0.050680  0.044451 -0.005670 -0.045599 -0.034194 -0.032356   \n",
      "3 -0.089063 -0.044642 -0.011595 -0.036656  0.012191  0.024991 -0.036038   \n",
      "4  0.005383 -0.044642 -0.036385  0.021872  0.003935  0.015596  0.008142   \n",
      "\n",
      "         s4        s5        s6  \n",
      "0 -0.002592  0.019907 -0.017646  \n",
      "1 -0.039493 -0.068332 -0.092204  \n",
      "2 -0.002592  0.002861 -0.025930  \n",
      "3  0.034309  0.022688 -0.009362  \n",
      "4 -0.002592 -0.031988 -0.046641  \n"
     ]
    }
   ],
   "source": [
    "from sklearn.datasets import load_diabetes\n",
    "\n",
    "diabetes = load_diabetes(as_frame=True)\n",
    "\n",
    "print(diabetes.data.head())\n",
    "\n",
    "X = diabetes.data\n",
    "y = diabetes.target"
   ]
  },
  {
   "cell_type": "markdown",
   "metadata": {},
   "source": [
    "To check the generalization of the model, we will split the dataset into training and test sets. We will use 75% of the data for training and 25% for testing."
   ]
  },
  {
   "cell_type": "code",
   "execution_count": 7,
   "metadata": {},
   "outputs": [],
   "source": [
    "from pipegenie.model_selection import train_test_split\n",
    "\n",
    "X_train, X_test, y_train, y_test = train_test_split(X, y, test_size=0.25, random_state=9)"
   ]
  },
  {
   "cell_type": "markdown",
   "metadata": {},
   "source": [
    "Once we have the data, we can create a model using the `PipegenieRegressor` class. The `PipegenieRegressor` requires the path to the grammar file as a parameter, but it also accepts other parameters such as the number of generations, the population size, operators to apply, seed for reproducibility, etc. Keep in mind that, by default, the fitness function is the root mean squared error, which has to be minimized, so the maximization flag has to be set to False to properly optimize the model. To see all the parameters available, you can check the documentation of the class."
   ]
  },
  {
   "cell_type": "code",
   "execution_count": null,
   "metadata": {},
   "outputs": [],
   "source": [
    "from pipegenie.regression import PipegenieRegressor\n",
    "from pipegenie.evolutionary.crossover import MultiCrossover\n",
    "from pipegenie.evolutionary.mutation import MultiMutation\n",
    "from pipegenie.evolutionary.replacement import ElitistGenerationalReplacement\n",
    "from pipegenie.evolutionary.selection import TournamentSelection\n",
    "\n",
    "model = PipegenieRegressor(\n",
    "    grammar=\"sample-grammar-regression.xml\",\n",
    "    generations=5,\n",
    "    pop_size=50,\n",
    "    elite_size=5,\n",
    "    crossover=MultiCrossover(0.8),\n",
    "    mutation=MultiMutation(0.5),\n",
    "    selection=TournamentSelection(3),\n",
    "    replacement=ElitistGenerationalReplacement(5),\n",
    "    maximization=False,\n",
    "    n_jobs=5,\n",
    "    seed=9,\n",
    "    outdir=\"sample-results\",\n",
    ")"
   ]
  },
  {
   "cell_type": "markdown",
   "metadata": {},
   "source": [
    "With the model created, we can now train it using the `fit` method passing the data features and labels of the training set."
   ]
  },
  {
   "cell_type": "code",
   "execution_count": 9,
   "metadata": {},
   "outputs": [
    {
     "name": "stdout",
     "output_type": "stream",
     "text": [
      "                                       fitness                                            size                                        fitness_elite                                      size_elite              \n",
      "                 ----------------------------------------------------    --------------------------------------    ----------------------------------------------------    --------------------------------------\n",
      "gen    nevals    min           max           avg           std           min    max    avg           std           min           max           avg           std           min    max    avg           std       \n",
      "0      50        52.129        1.1564e+28    3.0432e+26    1.8511e+27    1      6      2.88          1.3363        52.129        52.396        52.328        0.10354       1      3      2.2           0.9798    \n",
      "1      40        52.129        75.473        55.035        4.719         1      5      2.3043        1.1955        52.129        52.396        52.328        0.10354       1      3      2.2           0.9798    \n",
      "2      30        52.129        75.473        54.167        4.4763        1      3      1.9286        0.82787       52.129        52.396        52.328        0.10354       1      3      2.2           0.9798    \n",
      "3      30        52.117        73.681        53.211        3.6174        1      3      2.0263        0.90283       52.117        52.32         52.241        0.096669      1      3      2.2           0.9798    \n",
      "4      31        52.117        64.267        53.671        3.0611        1      3      1.7059        0.92448       52.117        52.32         52.235        0.092011      1      3      2.2           0.9798    \n",
      "5      20        52.117        54.994        52.675        0.82442       1      5      1.6129        1.0373        52.117        52.32         52.235        0.092011      1      3      2.2           0.9798    \n",
      "--- 60.3293251991272 sec ---\n"
     ]
    },
    {
     "data": {
      "text/plain": [
       "<pipegenie.regression.pipegenie_regressor.PipegenieRegressor at 0x78b2a5d07dc0>"
      ]
     },
     "execution_count": 9,
     "metadata": {},
     "output_type": "execute_result"
    }
   ],
   "source": [
    "model.fit(X_train, y_train)"
   ]
  },
  {
   "cell_type": "markdown",
   "metadata": {},
   "source": [
    "After training, we can evaluate the model's performance either using the `score` method or any other metric. The `score` method returns the r2 score of the model on the given data features and target value. Alternatively, you can use the `predict` method to get the predicted values for the given data features. You can then use these predictions to calculate other metrics provided by the `pipegenie` package, `sklearn` package or any other metric you want."
   ]
  },
  {
   "cell_type": "code",
   "execution_count": 10,
   "metadata": {},
   "outputs": [
    {
     "name": "stdout",
     "output_type": "stream",
     "text": [
      "Model score: 0.4291762507492479\n",
      "R2 score: 0.4291762507492479\n",
      "RMSE: 61.085220012340514\n"
     ]
    }
   ],
   "source": [
    "print(f\"Model score: {model.score(X_test, y_test)}\")\n",
    "\n",
    "from pipegenie.metrics import r2_score, root_mean_squared_error\n",
    "\n",
    "y_pred = model.predict(X_test)\n",
    "\n",
    "print(f\"R2 score: {r2_score(y_test, y_pred)}\") # Should be the same as model.score(X_test, y_test)\n",
    "print(f\"RMSE: {root_mean_squared_error(y_test, y_pred)}\")"
   ]
  }
 ],
 "metadata": {
  "kernelspec": {
   "display_name": "pipegenie-venv",
   "language": "python",
   "name": "python3"
  },
  "language_info": {
   "codemirror_mode": {
    "name": "ipython",
    "version": 3
   },
   "file_extension": ".py",
   "mimetype": "text/x-python",
   "name": "python",
   "nbconvert_exporter": "python",
   "pygments_lexer": "ipython3",
   "version": "3.10.12"
  }
 },
 "nbformat": 4,
 "nbformat_minor": 2
}
